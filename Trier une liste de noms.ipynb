{
 "cells": [
  {
   "cell_type": "code",
   "execution_count": 32,
   "id": "f65a6088",
   "metadata": {},
   "outputs": [
    {
     "data": {
      "text/plain": [
       "728"
      ]
     },
     "execution_count": 32,
     "metadata": {},
     "output_type": "execute_result"
    }
   ],
   "source": [
    "from pathlib import Path\n",
    "fichier = Path(r\"C:\\Users\\Amine LAJNEF\\prenoms.txt\")\n",
    "\n",
    "# Récupérer le contenu du fichier\n",
    "texte = fichier.read_text(encoding = 'utf-8')  \n",
    "# Nettoyer le texte\n",
    "prenoms_clean = texte.strip(\",. \")\n",
    "# Liste triée\n",
    "liste_prenoms_clean = prenoms_clean.split(\", \")\n",
    "liste_tri = sorted(liste_prenoms_clean)\n",
    "# Texte trié et nettoyé\n",
    "resultat = \"\\n\".join(liste_tri)\n",
    "# Ecrire ce résultat dans un nouveau fichier texte\n",
    "fichier_resultat = Path.home() / \"prénoms_triés.txt\"\n",
    "fichier_resultat.touch()\n",
    "fichier_resultat.write_text(resultat)"
   ]
  },
  {
   "cell_type": "code",
   "execution_count": null,
   "id": "77e6b50b",
   "metadata": {},
   "outputs": [],
   "source": []
  },
  {
   "cell_type": "code",
   "execution_count": null,
   "id": "c52d2819",
   "metadata": {},
   "outputs": [],
   "source": []
  }
 ],
 "metadata": {
  "kernelspec": {
   "display_name": "Python 3 (ipykernel)",
   "language": "python",
   "name": "python3"
  },
  "language_info": {
   "codemirror_mode": {
    "name": "ipython",
    "version": 3
   },
   "file_extension": ".py",
   "mimetype": "text/x-python",
   "name": "python",
   "nbconvert_exporter": "python",
   "pygments_lexer": "ipython3",
   "version": "3.9.13"
  }
 },
 "nbformat": 4,
 "nbformat_minor": 5
}
